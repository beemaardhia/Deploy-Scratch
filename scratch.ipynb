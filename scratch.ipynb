{
 "cells": [
  {
   "cell_type": "markdown",
   "metadata": {
    "id": "DgMk7bvOuO4H"
   },
   "source": [
    "# Jaringan - LKS\n",
    " Praktek NLP"
   ]
  },
  {
   "cell_type": "code",
   "execution_count": 3,
   "metadata": {
    "id": "3jVGiQ4nr4uK"
   },
   "outputs": [],
   "source": [
    "import pandas as pd\n",
    "pd.set_option('display.max_colwidth', None)\n",
    "\n",
    "import numpy as np\n",
    "import matplotlib.pyplot as plt\n",
    "\n",
    "\n",
    "\n",
    "\n",
    "# Untuk mempermudah, simpan setiap objek agar dapat digunakan untuk pemodelan maupun deployment. Gunakan library Pickle\n",
    "import pickle\n",
    "\n",
    "\n",
    "%matplotlib inline"
   ]
  },
  {
   "cell_type": "markdown",
   "metadata": {
    "id": "Cwyw4gq1sLo0"
   },
   "source": [
    "# 01 Data Acquisition\n"
   ]
  },
  {
   "cell_type": "code",
   "execution_count": 4,
   "metadata": {
    "colab": {
     "base_uri": "https://localhost:8080/",
     "height": 206
    },
    "id": "gYItGX_jtL3b",
    "outputId": "b8f3349b-d884-40b0-e593-382ba1bc3806"
   },
   "outputs": [
    {
     "data": {
      "text/html": [
       "<div>\n",
       "<style scoped>\n",
       "    .dataframe tbody tr th:only-of-type {\n",
       "        vertical-align: middle;\n",
       "    }\n",
       "\n",
       "    .dataframe tbody tr th {\n",
       "        vertical-align: top;\n",
       "    }\n",
       "\n",
       "    .dataframe thead th {\n",
       "        text-align: right;\n",
       "    }\n",
       "</style>\n",
       "<table border=\"1\" class=\"dataframe\">\n",
       "  <thead>\n",
       "    <tr style=\"text-align: right;\">\n",
       "      <th></th>\n",
       "      <th>Sentiment</th>\n",
       "      <th>text</th>\n",
       "      <th>clean_teks</th>\n",
       "    </tr>\n",
       "  </thead>\n",
       "  <tbody>\n",
       "    <tr>\n",
       "      <th>0</th>\n",
       "      <td>positive</td>\n",
       "      <td>&lt;USER_MENTION&gt; #BOIKOT_&lt;PROVIDER_NAME&gt; Gunakan Produk Bangsa Sendiri &lt;PROVIDER_NAME&gt;</td>\n",
       "      <td>produk bangsa</td>\n",
       "    </tr>\n",
       "    <tr>\n",
       "      <th>1</th>\n",
       "      <td>positive</td>\n",
       "      <td>Saktinya balik lagi, alhamdulillah :v &lt;PROVIDER_NAME&gt;</td>\n",
       "      <td>sakti alhamdulillah v</td>\n",
       "    </tr>\n",
       "    <tr>\n",
       "      <th>2</th>\n",
       "      <td>negative</td>\n",
       "      <td>Selamat pagi &lt;PROVIDER_NAME&gt;  bisa bantu kenapa di dalam kamar sinyal 4G hilang yang 1 lagi panggilan darurat saja  &lt;URL&gt;</td>\n",
       "      <td>selamat pagi bantu kamar sinyal hilang panggil darurat</td>\n",
       "    </tr>\n",
       "    <tr>\n",
       "      <th>3</th>\n",
       "      <td>negative</td>\n",
       "      <td>Dear &lt;PROVIDER_NAME&gt; akhir2 ini jaringan data lemot banget padahal H+ !!!!</td>\n",
       "      <td>dear jaring data lot banget h</td>\n",
       "    </tr>\n",
       "    <tr>\n",
       "      <th>4</th>\n",
       "      <td>negative</td>\n",
       "      <td>Selamat malam PENDUSTA &lt;PROVIDER_NAME&gt;</td>\n",
       "      <td>selamat malam dusta</td>\n",
       "    </tr>\n",
       "    <tr>\n",
       "      <th>...</th>\n",
       "      <td>...</td>\n",
       "      <td>...</td>\n",
       "      <td>...</td>\n",
       "    </tr>\n",
       "    <tr>\n",
       "      <th>295</th>\n",
       "      <td>positive</td>\n",
       "      <td>Pantesan lancar ya, sinyal &lt;PROVIDER_NAME&gt; yang 4G lancar sekali di lombok timur</td>\n",
       "      <td>pantesan lancar ya sinyal lancar lombok timur</td>\n",
       "    </tr>\n",
       "    <tr>\n",
       "      <th>296</th>\n",
       "      <td>positive</td>\n",
       "      <td>Alhamdulillah lancar pakai &lt;PROVIDER_NAME&gt;</td>\n",
       "      <td>alhamdulillah lancar pakai</td>\n",
       "    </tr>\n",
       "    <tr>\n",
       "      <th>297</th>\n",
       "      <td>positive</td>\n",
       "      <td>Untung pakai internet &lt;PROVIDER_NAME&gt;, lancar, jadi dapat banyak ide.</td>\n",
       "      <td>untung pakai internet lancar ide</td>\n",
       "    </tr>\n",
       "    <tr>\n",
       "      <th>298</th>\n",
       "      <td>positive</td>\n",
       "      <td>di tempat ramai seperti di lokasi wisata, &lt;PROVIDER_NAME&gt; tetap jaya.</td>\n",
       "      <td>ramai lokasi wisata jaya</td>\n",
       "    </tr>\n",
       "    <tr>\n",
       "      <th>299</th>\n",
       "      <td>negative</td>\n",
       "      <td>Sinyal &lt;PROVIDER_NAME&gt; amsyong d stadion gajayana</td>\n",
       "      <td>sinyal amsyong stadion gajayana</td>\n",
       "    </tr>\n",
       "  </tbody>\n",
       "</table>\n",
       "<p>300 rows × 3 columns</p>\n",
       "</div>"
      ],
      "text/plain": [
       "    Sentiment  \\\n",
       "0    positive   \n",
       "1    positive   \n",
       "2    negative   \n",
       "3    negative   \n",
       "4    negative   \n",
       "..        ...   \n",
       "295  positive   \n",
       "296  positive   \n",
       "297  positive   \n",
       "298  positive   \n",
       "299  negative   \n",
       "\n",
       "                                                                                                                          text  \\\n",
       "0                                         <USER_MENTION> #BOIKOT_<PROVIDER_NAME> Gunakan Produk Bangsa Sendiri <PROVIDER_NAME>   \n",
       "1                                                                        Saktinya balik lagi, alhamdulillah :v <PROVIDER_NAME>   \n",
       "2    Selamat pagi <PROVIDER_NAME>  bisa bantu kenapa di dalam kamar sinyal 4G hilang yang 1 lagi panggilan darurat saja  <URL>   \n",
       "3                                                   Dear <PROVIDER_NAME> akhir2 ini jaringan data lemot banget padahal H+ !!!!   \n",
       "4                                                                                      Selamat malam PENDUSTA <PROVIDER_NAME>    \n",
       "..                                                                                                                         ...   \n",
       "295                                           Pantesan lancar ya, sinyal <PROVIDER_NAME> yang 4G lancar sekali di lombok timur   \n",
       "296                                                                                 Alhamdulillah lancar pakai <PROVIDER_NAME>   \n",
       "297                                                      Untung pakai internet <PROVIDER_NAME>, lancar, jadi dapat banyak ide.   \n",
       "298                                                      di tempat ramai seperti di lokasi wisata, <PROVIDER_NAME> tetap jaya.   \n",
       "299                                                                          Sinyal <PROVIDER_NAME> amsyong d stadion gajayana   \n",
       "\n",
       "                                                 clean_teks  \n",
       "0                                             produk bangsa  \n",
       "1                                     sakti alhamdulillah v  \n",
       "2    selamat pagi bantu kamar sinyal hilang panggil darurat  \n",
       "3                             dear jaring data lot banget h  \n",
       "4                                       selamat malam dusta  \n",
       "..                                                      ...  \n",
       "295           pantesan lancar ya sinyal lancar lombok timur  \n",
       "296                              alhamdulillah lancar pakai  \n",
       "297                        untung pakai internet lancar ide  \n",
       "298                                ramai lokasi wisata jaya  \n",
       "299                         sinyal amsyong stadion gajayana  \n",
       "\n",
       "[300 rows x 3 columns]"
      ]
     },
     "execution_count": 4,
     "metadata": {},
     "output_type": "execute_result"
    }
   ],
   "source": [
    "data = pd.read_csv('jaringanClean.csv')\n",
    "# data.drop(['text'],axis = 1,inplace = True)\n",
    "data.rename(columns={'sentiment': 'Sentiment'}, inplace=True)\n",
    "data = data.head(5000)\n",
    "data"
   ]
  },
  {
   "cell_type": "code",
   "execution_count": 5,
   "metadata": {
    "colab": {
     "base_uri": "https://localhost:8080/"
    },
    "id": "fmPgkrIltdLj",
    "outputId": "cdadb446-70dc-4eab-88e1-11a0a72fc5c7"
   },
   "outputs": [
    {
     "name": "stdout",
     "output_type": "stream",
     "text": [
      "<class 'pandas.core.frame.DataFrame'>\n",
      "RangeIndex: 300 entries, 0 to 299\n",
      "Data columns (total 3 columns):\n",
      " #   Column      Non-Null Count  Dtype \n",
      "---  ------      --------------  ----- \n",
      " 0   Sentiment   300 non-null    object\n",
      " 1   text        300 non-null    object\n",
      " 2   clean_teks  297 non-null    object\n",
      "dtypes: object(3)\n",
      "memory usage: 7.2+ KB\n"
     ]
    }
   ],
   "source": [
    "data.info()"
   ]
  },
  {
   "cell_type": "code",
   "execution_count": 6,
   "metadata": {},
   "outputs": [
    {
     "data": {
      "text/plain": [
       "Sentiment     0\n",
       "text          0\n",
       "clean_teks    0\n",
       "dtype: int64"
      ]
     },
     "execution_count": 6,
     "metadata": {},
     "output_type": "execute_result"
    }
   ],
   "source": [
    "\n",
    "data.dropna(inplace = True)\n",
    "data.isnull().sum()"
   ]
  },
  {
   "cell_type": "code",
   "execution_count": 7,
   "metadata": {
    "colab": {
     "base_uri": "https://localhost:8080/"
    },
    "id": "Ikc4rlDztnZh",
    "outputId": "ce098c98-1995-46a8-e25a-69b4886e737f"
   },
   "outputs": [
    {
     "name": "stdout",
     "output_type": "stream",
     "text": [
      "Total Jumlah Sentimen: 297 data\n",
      "\n",
      "terdiri dari (sentimen):\n",
      "-- [0] Positive\t: 137 data\n",
      "-- [1] Negative\t: 160 data\n"
     ]
    }
   ],
   "source": [
    "print('Total Jumlah Sentimen:', data.shape[0], 'data\\n')\n",
    "print('terdiri dari (sentimen):')\n",
    "print('-- [0] Positive\\t:', data[data.Sentiment == 'positive'].shape[0], 'data')\n",
    "print('-- [1] Negative\\t:', data[data.Sentiment == 'negative'].shape[0], 'data')\n"
   ]
  },
  {
   "cell_type": "code",
   "execution_count": 8,
   "metadata": {},
   "outputs": [],
   "source": [
    "# data['Sentiment'] = data['Sentiment'].replace({'positive': 1, 'negative': 2})\n"
   ]
  },
  {
   "cell_type": "markdown",
   "metadata": {
    "id": "7ctyIbyEsPFi"
   },
   "source": [
    "# 03 Feature Engineering"
   ]
  },
  {
   "cell_type": "code",
   "execution_count": 9,
   "metadata": {
    "id": "2t7BhFnWsSZe"
   },
   "outputs": [],
   "source": [
    "# Pisahkan kolom fitur dan target\n",
    "X = data['clean_teks']\n",
    "y = data['Sentiment']"
   ]
  },
  {
   "cell_type": "code",
   "execution_count": 10,
   "metadata": {
    "colab": {
     "base_uri": "https://localhost:8080/"
    },
    "id": "Cxu19lBHvcBb",
    "outputId": "2648abbe-e68e-47c3-fd4f-141bdff1a457"
   },
   "outputs": [
    {
     "data": {
      "text/plain": [
       "0                                               produk bangsa\n",
       "1                                       sakti alhamdulillah v\n",
       "2      selamat pagi bantu kamar sinyal hilang panggil darurat\n",
       "3                               dear jaring data lot banget h\n",
       "4                                         selamat malam dusta\n",
       "                                ...                          \n",
       "295             pantesan lancar ya sinyal lancar lombok timur\n",
       "296                                alhamdulillah lancar pakai\n",
       "297                          untung pakai internet lancar ide\n",
       "298                                  ramai lokasi wisata jaya\n",
       "299                           sinyal amsyong stadion gajayana\n",
       "Name: clean_teks, Length: 297, dtype: object"
      ]
     },
     "execution_count": 10,
     "metadata": {},
     "output_type": "execute_result"
    }
   ],
   "source": [
    "X"
   ]
  },
  {
   "cell_type": "code",
   "execution_count": 11,
   "metadata": {
    "colab": {
     "base_uri": "https://localhost:8080/"
    },
    "id": "KL_kEo3ppY3V",
    "outputId": "f5e5aee4-4627-43c6-d7ac-e85d2477759f"
   },
   "outputs": [
    {
     "data": {
      "text/plain": [
       "0      positive\n",
       "1      positive\n",
       "2      negative\n",
       "3      negative\n",
       "4      negative\n",
       "         ...   \n",
       "295    positive\n",
       "296    positive\n",
       "297    positive\n",
       "298    positive\n",
       "299    negative\n",
       "Name: Sentiment, Length: 297, dtype: object"
      ]
     },
     "execution_count": 11,
     "metadata": {},
     "output_type": "execute_result"
    }
   ],
   "source": [
    "y"
   ]
  },
  {
   "cell_type": "code",
   "execution_count": null,
   "metadata": {},
   "outputs": [],
   "source": [
    "import pandas as pd\n",
    "import numpy as np\n",
    "from math import log\n",
    "\n",
    "# Langkah 1: Membaca data dari Excel\n",
    "texts = X.astype(str).tolist()  # Sesuaikan dengan nama kolom teks\n",
    "\n",
    "# Langkah 2: Membangun kosakata dan menghitung TF\n",
    "def compute_tf(texts):\n",
    "    vocab = set(word for text in texts for word in text.split())\n",
    "    tf_scores = []\n",
    "    for text in texts:\n",
    "        words = text.split()\n",
    "        word_count = len(words)\n",
    "        tf_text = {}\n",
    "        for word in words:\n",
    "            if word in vocab:\n",
    "                tf_text[word] = tf_text.get(word, 0) + 1/word_count\n",
    "        tf_scores.append(tf_text)\n",
    "    return vocab, tf_scores\n",
    "\n",
    "vocab, tf_scores = compute_tf(texts)\n",
    "\n",
    "# Langkah 3: Menghitung IDF\n",
    "def compute_idf(vocab, texts):\n",
    "    n_docs = len(texts)\n",
    "    idf_scores = {}\n",
    "    for word in vocab:\n",
    "        n_containing = sum(1 for text in texts if word in text)\n",
    "        idf_scores[word] = log(n_docs / (1 + n_containing))  # Ditambahkan 1 untuk mencegah pembagian dengan nol\n",
    "    return idf_scores\n",
    "\n",
    "idf_scores = compute_idf(vocab, texts)\n",
    "\n",
    "# Langkah 4: Menghitung skor TF-IDF\n",
    "def compute_tfidf(tf_scores, idf_scores):\n",
    "    tfidf_scores = []\n",
    "    for tf_text in tf_scores:\n",
    "        tfidf_text = {word: tf * idf_scores[word] for word, tf in tf_text.items()}\n",
    "        tfidf_scores.append(tfidf_text)\n",
    "    return tfidf_scores\n",
    "\n",
    "tfidf_scores = compute_tfidf(tf_scores, idf_scores)\n",
    "\n",
    "# Hasil akhir: tfidf_scores adalah daftar dari dictionary yang berisi skor TF-IDF untuk setiap dokumen\n"
   ]
  },
  {
   "cell_type": "code",
   "execution_count": 12,
   "metadata": {},
   "outputs": [
    {
     "data": {
      "text/html": [
       "<div>\n",
       "<style scoped>\n",
       "    .dataframe tbody tr th:only-of-type {\n",
       "        vertical-align: middle;\n",
       "    }\n",
       "\n",
       "    .dataframe tbody tr th {\n",
       "        vertical-align: top;\n",
       "    }\n",
       "\n",
       "    .dataframe thead th {\n",
       "        text-align: right;\n",
       "    }\n",
       "</style>\n",
       "<table border=\"1\" class=\"dataframe\">\n",
       "  <thead>\n",
       "    <tr style=\"text-align: right;\">\n",
       "      <th></th>\n",
       "      <th>acara</th>\n",
       "      <th>aceh</th>\n",
       "      <th>adhan</th>\n",
       "      <th>ajaib</th>\n",
       "      <th>ajar</th>\n",
       "      <th>akses</th>\n",
       "      <th>aksi</th>\n",
       "      <th>aktif</th>\n",
       "      <th>aktivitas</th>\n",
       "      <th>alat</th>\n",
       "      <th>...</th>\n",
       "      <th>wkp</th>\n",
       "      <th>wow</th>\n",
       "      <th>xd</th>\n",
       "      <th>ya</th>\n",
       "      <th>yess</th>\n",
       "      <th>yonder</th>\n",
       "      <th>youtube</th>\n",
       "      <th>youtubenya</th>\n",
       "      <th>yuk</th>\n",
       "      <th>zalim</th>\n",
       "    </tr>\n",
       "  </thead>\n",
       "  <tbody>\n",
       "    <tr>\n",
       "      <th>0</th>\n",
       "      <td>0.0</td>\n",
       "      <td>0.0</td>\n",
       "      <td>0.0</td>\n",
       "      <td>0.0</td>\n",
       "      <td>0.0</td>\n",
       "      <td>0.0</td>\n",
       "      <td>0.0</td>\n",
       "      <td>0.0</td>\n",
       "      <td>0.0</td>\n",
       "      <td>0.0</td>\n",
       "      <td>...</td>\n",
       "      <td>0.0</td>\n",
       "      <td>0.0</td>\n",
       "      <td>0.0</td>\n",
       "      <td>0.0</td>\n",
       "      <td>0.0</td>\n",
       "      <td>0.0</td>\n",
       "      <td>0.0</td>\n",
       "      <td>0.0</td>\n",
       "      <td>0.0</td>\n",
       "      <td>0.0</td>\n",
       "    </tr>\n",
       "    <tr>\n",
       "      <th>1</th>\n",
       "      <td>0.0</td>\n",
       "      <td>0.0</td>\n",
       "      <td>0.0</td>\n",
       "      <td>0.0</td>\n",
       "      <td>0.0</td>\n",
       "      <td>0.0</td>\n",
       "      <td>0.0</td>\n",
       "      <td>0.0</td>\n",
       "      <td>0.0</td>\n",
       "      <td>0.0</td>\n",
       "      <td>...</td>\n",
       "      <td>0.0</td>\n",
       "      <td>0.0</td>\n",
       "      <td>0.0</td>\n",
       "      <td>0.0</td>\n",
       "      <td>0.0</td>\n",
       "      <td>0.0</td>\n",
       "      <td>0.0</td>\n",
       "      <td>0.0</td>\n",
       "      <td>0.0</td>\n",
       "      <td>0.0</td>\n",
       "    </tr>\n",
       "    <tr>\n",
       "      <th>2</th>\n",
       "      <td>0.0</td>\n",
       "      <td>0.0</td>\n",
       "      <td>0.0</td>\n",
       "      <td>0.0</td>\n",
       "      <td>0.0</td>\n",
       "      <td>0.0</td>\n",
       "      <td>0.0</td>\n",
       "      <td>0.0</td>\n",
       "      <td>0.0</td>\n",
       "      <td>0.0</td>\n",
       "      <td>...</td>\n",
       "      <td>0.0</td>\n",
       "      <td>0.0</td>\n",
       "      <td>0.0</td>\n",
       "      <td>0.0</td>\n",
       "      <td>0.0</td>\n",
       "      <td>0.0</td>\n",
       "      <td>0.0</td>\n",
       "      <td>0.0</td>\n",
       "      <td>0.0</td>\n",
       "      <td>0.0</td>\n",
       "    </tr>\n",
       "    <tr>\n",
       "      <th>3</th>\n",
       "      <td>0.0</td>\n",
       "      <td>0.0</td>\n",
       "      <td>0.0</td>\n",
       "      <td>0.0</td>\n",
       "      <td>0.0</td>\n",
       "      <td>0.0</td>\n",
       "      <td>0.0</td>\n",
       "      <td>0.0</td>\n",
       "      <td>0.0</td>\n",
       "      <td>0.0</td>\n",
       "      <td>...</td>\n",
       "      <td>0.0</td>\n",
       "      <td>0.0</td>\n",
       "      <td>0.0</td>\n",
       "      <td>0.0</td>\n",
       "      <td>0.0</td>\n",
       "      <td>0.0</td>\n",
       "      <td>0.0</td>\n",
       "      <td>0.0</td>\n",
       "      <td>0.0</td>\n",
       "      <td>0.0</td>\n",
       "    </tr>\n",
       "    <tr>\n",
       "      <th>4</th>\n",
       "      <td>0.0</td>\n",
       "      <td>0.0</td>\n",
       "      <td>0.0</td>\n",
       "      <td>0.0</td>\n",
       "      <td>0.0</td>\n",
       "      <td>0.0</td>\n",
       "      <td>0.0</td>\n",
       "      <td>0.0</td>\n",
       "      <td>0.0</td>\n",
       "      <td>0.0</td>\n",
       "      <td>...</td>\n",
       "      <td>0.0</td>\n",
       "      <td>0.0</td>\n",
       "      <td>0.0</td>\n",
       "      <td>0.0</td>\n",
       "      <td>0.0</td>\n",
       "      <td>0.0</td>\n",
       "      <td>0.0</td>\n",
       "      <td>0.0</td>\n",
       "      <td>0.0</td>\n",
       "      <td>0.0</td>\n",
       "    </tr>\n",
       "  </tbody>\n",
       "</table>\n",
       "<p>5 rows × 621 columns</p>\n",
       "</div>"
      ],
      "text/plain": [
       "   acara  aceh  adhan  ajaib  ajar  akses  aksi  aktif  aktivitas  alat  ...  \\\n",
       "0    0.0   0.0    0.0    0.0   0.0    0.0   0.0    0.0        0.0   0.0  ...   \n",
       "1    0.0   0.0    0.0    0.0   0.0    0.0   0.0    0.0        0.0   0.0  ...   \n",
       "2    0.0   0.0    0.0    0.0   0.0    0.0   0.0    0.0        0.0   0.0  ...   \n",
       "3    0.0   0.0    0.0    0.0   0.0    0.0   0.0    0.0        0.0   0.0  ...   \n",
       "4    0.0   0.0    0.0    0.0   0.0    0.0   0.0    0.0        0.0   0.0  ...   \n",
       "\n",
       "   wkp  wow   xd   ya  yess  yonder  youtube  youtubenya  yuk  zalim  \n",
       "0  0.0  0.0  0.0  0.0   0.0     0.0      0.0         0.0  0.0    0.0  \n",
       "1  0.0  0.0  0.0  0.0   0.0     0.0      0.0         0.0  0.0    0.0  \n",
       "2  0.0  0.0  0.0  0.0   0.0     0.0      0.0         0.0  0.0    0.0  \n",
       "3  0.0  0.0  0.0  0.0   0.0     0.0      0.0         0.0  0.0    0.0  \n",
       "4  0.0  0.0  0.0  0.0   0.0     0.0      0.0         0.0  0.0    0.0  \n",
       "\n",
       "[5 rows x 621 columns]"
      ]
     },
     "execution_count": 12,
     "metadata": {},
     "output_type": "execute_result"
    }
   ],
   "source": [
    "import pandas as pd\n",
    "from TFIDF import TFIDFVectorizer\n",
    "\n",
    "# Contoh data teks (sudah didefinisikan sebelumnya dalam X)\n",
    "\n",
    "\n",
    "# Menggunakan TFIDFVectorizer yang telah kita buat sebelumnya\n",
    "vectorizer_sample = TFIDFVectorizer()\n",
    "vectorizer_sample.fit(X)\n",
    "X_tfidf_sample = vectorizer_sample.transform(X)\n",
    "\n",
    "# Mengubah hasil ke dalam DataFrame\n",
    "feature_names = vectorizer_sample.get_feature_names_out()\n",
    "data_tf_idf_sample = pd.DataFrame(X_tfidf_sample, columns=feature_names)\n",
    "\n",
    "# Menampilkan 100 baris pertama (dalam kasus ini, seluruh dataset karena kurang dari 100)\n",
    "data_tf_idf_sample.head()\n",
    "\n"
   ]
  },
  {
   "cell_type": "code",
   "execution_count": 24,
   "metadata": {},
   "outputs": [],
   "source": [
    "data_tf_idf_sample.to_csv('data_tf_idf.csv', index=False)"
   ]
  },
  {
   "cell_type": "code",
   "execution_count": null,
   "metadata": {},
   "outputs": [],
   "source": [
    "pd.Series(feature_names).to_csv('feature_names.csv', index=False)\n"
   ]
  },
  {
   "cell_type": "code",
   "execution_count": 13,
   "metadata": {},
   "outputs": [
    {
     "data": {
      "text/plain": [
       "(297, 621)"
      ]
     },
     "execution_count": 13,
     "metadata": {},
     "output_type": "execute_result"
    }
   ],
   "source": [
    "data_tf_idf_sample.shape"
   ]
  },
  {
   "cell_type": "code",
   "execution_count": 14,
   "metadata": {},
   "outputs": [],
   "source": [
    "# from sklearn.model_selection import train_test_split\n",
    "# X_train, X_test, y_train, y_test = train_test_split(data_tf_idf_sample, y, test_size=0.2, random_state=40)"
   ]
  },
  {
   "cell_type": "code",
   "execution_count": 15,
   "metadata": {},
   "outputs": [],
   "source": [
    "# X_train.shape, X_test.shape, y_train.shape, y_test.shape"
   ]
  },
  {
   "cell_type": "code",
   "execution_count": 16,
   "metadata": {},
   "outputs": [],
   "source": [
    "def train_test_split_corrected(X, y, test_size=0.2, random_state=None):\n",
    "    if random_state is not None:\n",
    "        np.random.seed(random_state)\n",
    "    \n",
    "    # Mengacak index\n",
    "    shuffled_indices = np.random.permutation(len(X))\n",
    "    \n",
    "    # Menentukan ukuran test set\n",
    "    test_set_size = int(len(X) * test_size)\n",
    "    \n",
    "    # Memisahkan indeks untuk test dan train\n",
    "    test_indices = shuffled_indices[:test_set_size]\n",
    "    train_indices = shuffled_indices[test_set_size:]\n",
    "    \n",
    "    # Pemilihan data berdasarkan indeks untuk X dan y\n",
    "    X_train = X.iloc[train_indices]\n",
    "    X_test = X.iloc[test_indices]\n",
    "    \n",
    "    if isinstance(y, pd.Series):\n",
    "        y_train = y.iloc[train_indices]\n",
    "        y_test = y.iloc[test_indices]\n",
    "    else:\n",
    "        y_train = y[train_indices]\n",
    "        y_test = y[test_indices]\n",
    "    \n",
    "    return X_train, X_test, y_train, y_test"
   ]
  },
  {
   "cell_type": "code",
   "execution_count": 17,
   "metadata": {},
   "outputs": [
    {
     "data": {
      "text/plain": [
       "((238, 621), (59, 621), (238,), (59,))"
      ]
     },
     "execution_count": 17,
     "metadata": {},
     "output_type": "execute_result"
    }
   ],
   "source": [
    "\n",
    "X_train, X_test, y_train, y_test = train_test_split_corrected(data_tf_idf_sample, y, test_size=0.2, random_state=40)\n",
    "\n",
    "X_train.shape, X_test.shape, y_train.shape, y_test.shape\n",
    "\n"
   ]
  },
  {
   "cell_type": "code",
   "execution_count": 18,
   "metadata": {},
   "outputs": [],
   "source": [
    "X_train = X_train.reset_index(drop=True)\n",
    "y_train = y_train.reset_index(drop=True)\n",
    "\n",
    "X_train = X_train.values\n",
    "X_test = X_test.values\n",
    "\n"
   ]
  },
  {
   "cell_type": "code",
   "execution_count": 19,
   "metadata": {},
   "outputs": [
    {
     "name": "stdout",
     "output_type": "stream",
     "text": [
      "['negative', 'negative', 'negative', 'negative', 'negative', 'positive', 'positive', 'negative', 'negative', 'negative', 'negative', 'positive', 'negative', 'positive', 'negative', 'negative', 'positive', 'positive', 'positive', 'positive', 'positive', 'positive', 'negative', 'positive', 'negative', 'positive', 'positive', 'positive', 'negative', 'positive', 'negative', 'negative', 'positive', 'positive', 'positive', 'positive', 'positive', 'positive', 'positive', 'negative', 'negative', 'positive', 'positive', 'positive', 'negative', 'positive', 'positive', 'negative', 'negative', 'positive', 'positive', 'positive', 'positive', 'negative', 'negative', 'negative', 'negative', 'positive', 'negative']\n",
      "0.7457627118644068\n"
     ]
    }
   ],
   "source": [
    "from KNN import KNN\n",
    "\n",
    "\n",
    "clf = KNN(k=3)\n",
    "clf.fit(X_train, y_train)\n",
    "predictions = clf.predict(X_test)\n",
    "\n",
    "print(predictions)\n",
    "\n",
    "acc = np.sum(predictions == y_test) / len(y_test)\n",
    "print(acc)"
   ]
  },
  {
   "cell_type": "code",
   "execution_count": null,
   "metadata": {},
   "outputs": [],
   "source": []
  },
  {
   "cell_type": "code",
   "execution_count": null,
   "metadata": {},
   "outputs": [],
   "source": []
  },
  {
   "cell_type": "code",
   "execution_count": 20,
   "metadata": {},
   "outputs": [
    {
     "name": "stdout",
     "output_type": "stream",
     "text": [
      "Jumlah prediksi benar\t: 44\n",
      "Jumlah prediksi salah\t: 15\n",
      "Akurasi pengujian\t: 74.57627118644068 %\n"
     ]
    }
   ],
   "source": [
    "predictions = np.array(predictions)\n",
    "y_test = np.array(y_test)\n",
    "\n",
    "# Hitung jumlah prediksi yang benar dan yang salah\n",
    "prediksi_benar = (predictions == y_test).sum()\n",
    "prediksi_salah = (predictions != y_test).sum()\n",
    "\n",
    "print('Jumlah prediksi benar\\t:', prediksi_benar)\n",
    "print('Jumlah prediksi salah\\t:', prediksi_salah)\n",
    "\n",
    "# Hitung akurasi\n",
    "accuracy = prediksi_benar / (prediksi_benar + prediksi_salah) * 100\n",
    "print('Akurasi pengujian\\t:', accuracy, '%')"
   ]
  },
  {
   "cell_type": "code",
   "execution_count": null,
   "metadata": {},
   "outputs": [],
   "source": []
  },
  {
   "cell_type": "markdown",
   "metadata": {},
   "source": [
    "# Not Scratch\n"
   ]
  },
  {
   "cell_type": "code",
   "execution_count": 21,
   "metadata": {},
   "outputs": [
    {
     "name": "stdout",
     "output_type": "stream",
     "text": [
      "Best parameters: {'n_neighbors': 4}\n"
     ]
    },
    {
     "data": {
      "text/plain": [
       "['model_1.joblib']"
      ]
     },
     "execution_count": 21,
     "metadata": {},
     "output_type": "execute_result"
    }
   ],
   "source": [
    "from sklearn.model_selection import GridSearchCV\n",
    "from sklearn.neighbors import KNeighborsClassifier      # Pilih salah satu algoritma supervised learning. Contoh ini menggunakan algoritma Decision Tree\n",
    "from joblib import dump   \n",
    "\n",
    "\n",
    "# Define the KNN classifier\n",
    "knn = KNeighborsClassifier()\n",
    "\n",
    "# Define the grid of parameters to search\n",
    "param_grid = {'n_neighbors': np.arange(1,100)}  # Example values for n_neighbors\n",
    "\n",
    "# Perform grid search with cross-validation\n",
    "grid_search = GridSearchCV(knn, param_grid, cv=5)\n",
    "\n",
    "# Fit the grid search to the data\n",
    "grid_search.fit(X_train, y_train)\n",
    "\n",
    "# Get the best model after tuning\n",
    "best_model = grid_search.best_estimator_\n",
    "\n",
    "# Save the best model\n",
    "dump(best_model, 'best_knn_model.joblib')\n",
    "\n",
    "# Get the best parameters\n",
    "best_params = grid_search.best_params_\n",
    "print(\"Best parameters:\", best_params)\n",
    "\n",
    "n_neighbors = best_params['n_neighbors']\n",
    "\n",
    "algorithm = KNeighborsClassifier(n_neighbors=n_neighbors)               # Load algoritma pembelajaran\n",
    "model = algorithm.fit(X_train, y_train)   # Fitkan (latih) algoritma pada data latih & label latih\n",
    "\n",
    "dump(model, filename='model_1.joblib')"
   ]
  },
  {
   "cell_type": "code",
   "execution_count": 22,
   "metadata": {},
   "outputs": [],
   "source": [
    "model_pred = model.predict(X_test)"
   ]
  },
  {
   "cell_type": "code",
   "execution_count": 23,
   "metadata": {},
   "outputs": [
    {
     "name": "stdout",
     "output_type": "stream",
     "text": [
      "Jumlah prediksi benar\t: 44\n",
      "Jumlah prediksi salah\t: 15\n",
      "Akurasi pengujian\t: 74.57627118644068 %\n"
     ]
    }
   ],
   "source": [
    "# Hitung jumlah data yang berhasil di prediksi model & jumlah data yang salah di prediksi\n",
    "prediksi_benar = (model_pred == y_test).sum()\n",
    "prediksi_salah = (model_pred != y_test).sum()\n",
    "\n",
    "print('Jumlah prediksi benar\\t:', prediksi_benar)\n",
    "print('Jumlah prediksi salah\\t:', prediksi_salah)\n",
    "\n",
    "accuracy = prediksi_benar / (prediksi_benar + prediksi_salah)*100\n",
    "print('Akurasi pengujian\\t:', accuracy, '%')"
   ]
  },
  {
   "cell_type": "code",
   "execution_count": null,
   "metadata": {},
   "outputs": [],
   "source": []
  }
 ],
 "metadata": {
  "colab": {
   "provenance": []
  },
  "kernelspec": {
   "display_name": "Python 3 (ipykernel)",
   "language": "python",
   "name": "python3"
  },
  "language_info": {
   "codemirror_mode": {
    "name": "ipython",
    "version": 3
   },
   "file_extension": ".py",
   "mimetype": "text/x-python",
   "name": "python",
   "nbconvert_exporter": "python",
   "pygments_lexer": "ipython3",
   "version": "3.10.11"
  },
  "vscode": {
   "interpreter": {
    "hash": "ad2bdc8ecc057115af97d19610ffacc2b4e99fae6737bb82f5d7fb13d2f2c186"
   }
  }
 },
 "nbformat": 4,
 "nbformat_minor": 4
}
